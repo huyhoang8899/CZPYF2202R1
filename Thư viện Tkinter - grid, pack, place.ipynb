{
 "cells": [
  {
   "cell_type": "code",
   "execution_count": null,
   "id": "334dfc6d",
   "metadata": {},
   "outputs": [],
   "source": []
  },
  {
   "cell_type": "markdown",
   "id": "4c559a90",
   "metadata": {},
   "source": [
    "## pack\n",
    "\n",
    "Lệnh `pack()` sẽ giúp sắp xếp các đối tượng theo thứ tự nhất định"
   ]
  },
  {
   "cell_type": "code",
   "execution_count": null,
   "id": "d6af98e3",
   "metadata": {},
   "outputs": [],
   "source": [
    "from tkinter import *\n",
    "windows = Tk()\n",
    "windows.title('Registration')\n",
    "\n",
    "Registration_text = Label(windows, text='Registration')\n",
    "fullname_text = Label(windows, text='Fullname')\n",
    "address_text = Label(windows, text='Address')\n",
    "email_text = Label(windows, text='Email')\n",
    "\n",
    "fullname_input = Entry(windows)\n",
    "address_input = Entry(windows)\n",
    "email_input = Entry(windows)\n",
    "\n",
    "Register_btn = Button(windows, text='Register')\n",
    "\n",
    "Registration_text.pack()\n",
    "fullname_text.pack()\n",
    "fullname_input.pack()\n",
    "address_text.pack()\n",
    "address_input.pack()\n",
    "email_text.pack()\n",
    "email_input.pack()\n",
    "\n",
    "Register_btn.pack()\n",
    "\n",
    "\n",
    "windows.mainloop()"
   ]
  },
  {
   "cell_type": "markdown",
   "id": "0093b00d",
   "metadata": {},
   "source": [
    "## grid"
   ]
  },
  {
   "cell_type": "code",
   "execution_count": 10,
   "id": "d89cd306",
   "metadata": {},
   "outputs": [],
   "source": [
    "from tkinter import *\n",
    "\n",
    "windows = Tk()\n",
    "windows.title(\"Rigistration\")\n",
    "\n",
    "registration = Label(windows, text = \"Rigistration\")\n",
    "registration.grid(column=1, row=0, columnspan=2)\n",
    "fullname = Label(windows, text = \"Full name\")\n",
    "fullname.grid(column=0, row=1)\n",
    "address = Label(windows, text = \"Address\")\n",
    "address.grid(column=0, row=2)\n",
    "email = Label(windows, text = \"Email\")\n",
    "email.grid(column=0, row=3)\n",
    "\n",
    "fullname_in = Entry(windows)\n",
    "fullname_in.grid(column=1, row=1)\n",
    "address_in = Entry(windows)\n",
    "address_in.grid(column=1, row=2)\n",
    "email_in = Entry(windows)\n",
    "email_in.grid(column=1, row=3)\n",
    "\n",
    "register = Button(windows, text = \"Register\")\n",
    "register.grid(column=3, row=4)\n",
    "login = Button(windows, text = \"Login\")\n",
    "login.grid(column=2, row=4)\n",
    "\n",
    "windows.mainloop()"
   ]
  },
  {
   "cell_type": "markdown",
   "id": "f0a05577",
   "metadata": {},
   "source": [
    "## place"
   ]
  },
  {
   "cell_type": "code",
   "execution_count": 26,
   "id": "070e6374",
   "metadata": {},
   "outputs": [],
   "source": [
    "from tkinter import *\n",
    "\n",
    "windows = Tk()\n",
    "windows.title(\"Rigistration\")\n",
    "\n",
    "registration = Label(windows, text = \"Rigistration\")\n",
    "fullname = Label(windows, text = \"Full name\")\n",
    "address = Label(windows, text = \"Address\")\n",
    "email = Label(windows, text = \"Email\")\n",
    "\n",
    "fullname_in = Entry(windows)\n",
    "address_in = Entry(windows)\n",
    "email_in = Entry(windows)\n",
    "\n",
    "register = Button(windows, text = \"Register\")\n",
    "login = Button(windows, text = \"Login\")\n",
    "\n",
    "registration.place(x=60,y=50)\n",
    "fullname.place(x=10,y=100)\n",
    "address.place(x=10,y=150)\n",
    "email.place(x=10,y=200)\n",
    "\n",
    "fullname_in.place(x=100,y=100)\n",
    "address_in.place(x=100,y=150)\n",
    "email_in.place(x=100,y=200)\n",
    "register.place(x=120,y=250)\n",
    "login.place(x=185,y=250)\n",
    "\n",
    "\n",
    "\n",
    "\n",
    "windows.mainloop()"
   ]
  }
 ],
 "metadata": {
  "kernelspec": {
   "display_name": "Python 3 (ipykernel)",
   "language": "python",
   "name": "python3"
  },
  "language_info": {
   "codemirror_mode": {
    "name": "ipython",
    "version": 3
   },
   "file_extension": ".py",
   "mimetype": "text/x-python",
   "name": "python",
   "nbconvert_exporter": "python",
   "pygments_lexer": "ipython3",
   "version": "3.10.2"
  }
 },
 "nbformat": 4,
 "nbformat_minor": 5
}
