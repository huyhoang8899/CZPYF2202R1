{
 "cells": [
  {
   "cell_type": "code",
   "execution_count": 35,
   "id": "3cbce102",
   "metadata": {},
   "outputs": [
    {
     "ename": "AttributeError",
     "evalue": "'Turtle' object has no attribute 'fill_color'",
     "output_type": "error",
     "traceback": [
      "\u001b[1;31m---------------------------------------------------------------------------\u001b[0m",
      "\u001b[1;31mAttributeError\u001b[0m                            Traceback (most recent call last)",
      "Input \u001b[1;32mIn [35]\u001b[0m, in \u001b[0;36m<module>\u001b[1;34m\u001b[0m\n\u001b[0;32m     32\u001b[0m pen\u001b[38;5;241m.\u001b[39mend_fill()\n\u001b[0;32m     34\u001b[0m \u001b[38;5;66;03m#vẽ mũi\u001b[39;00m\n\u001b[1;32m---> 35\u001b[0m \u001b[43mpen\u001b[49m\u001b[38;5;241;43m.\u001b[39;49m\u001b[43mfill_color\u001b[49m (\u001b[38;5;124m\"\u001b[39m\u001b[38;5;124myellow\u001b[39m\u001b[38;5;124m\"\u001b[39m)\n\u001b[0;32m     36\u001b[0m pen\u001b[38;5;241m.\u001b[39mpenup()\n\u001b[0;32m     37\u001b[0m pen\u001b[38;5;241m.\u001b[39mgoto (\u001b[38;5;241m0\u001b[39m,\u001b[38;5;241m50\u001b[39m)\n",
      "\u001b[1;31mAttributeError\u001b[0m: 'Turtle' object has no attribute 'fill_color'"
     ]
    }
   ],
   "source": [
    "# Thực hành vẽ mặt cười\n",
    "import turtle\n",
    "pen = turtle.Turtle()\n",
    "pen.pensize(5)\n",
    "pen.fillcolor(\"red\")\n",
    "pen.shape(\"circle\")\n",
    "\n",
    "pen.penup()\n",
    "pen.goto (0,-200) # di chuyển cây bút xuống dưới 200\n",
    "\n",
    "facesize = 200  # gán biến mặt cười\n",
    "eyesize = 25\n",
    "mosesize = 50\n",
    "\n",
    "pen.pendown()\n",
    "pen.circle (facesize)\n",
    "\n",
    " # vẽ mắt trái\n",
    "pen.penup()\n",
    "pen.goto (-50,100)\n",
    "pen.pendown()   \n",
    "pen.begin_fill()\n",
    "pen.circle (eyesize)\n",
    "pen.end_fill()\n",
    "\n",
    " # vẽ mắt phải\n",
    "pen.penup()\n",
    "pen.goto (50,100)\n",
    "pen.pendown()   \n",
    "pen.begin_fill()\n",
    "pen.circle (eyesize)\n",
    "pen.end_fill()\n",
    "\n",
    "#vẽ mũi\n",
    "#pen.fill_color (\"yellow\")\n",
    "pen.penup()\n",
    "pen.goto (0,50)\n",
    "pen.pendown()\n",
    "pen.circle(-mosesize, steps=3)\n",
    "\n",
    "#vẽ miệng \n",
    "pen.penup()\n",
    "pen.goto (-100,-70)\n",
    "pen.pendown()\n",
    "pen.right(90)\n",
    "pen.circle(100, 180)\n",
    "\n",
    "\n",
    "turtle.done()"
   ]
  },
  {
   "cell_type": "code",
   "execution_count": 39,
   "id": "bdd3bfeb",
   "metadata": {},
   "outputs": [],
   "source": [
    "turtle.done()"
   ]
  },
  {
   "cell_type": "code",
   "execution_count": 37,
   "id": "978d581f",
   "metadata": {},
   "outputs": [
    {
     "name": "stdout",
     "output_type": "stream",
     "text": [
      "72.61843774138907\n"
     ]
    }
   ],
   "source": [
    "# Thực hành tính diện tích tam giác\n",
    "a = 10\n",
    "b = 20\n",
    "c = 15\n",
    "\n",
    "p = (a + b + c) / 2\n",
    "\n",
    "s = (p * (p-a) * (p-b) * (p-c)) ** 0.5\n",
    "\n",
    "print(s)"
   ]
  },
  {
   "cell_type": "code",
   "execution_count": null,
   "id": "60ef1e7c",
   "metadata": {},
   "outputs": [],
   "source": []
  }
 ],
 "metadata": {
  "kernelspec": {
   "display_name": "Python 3 (ipykernel)",
   "language": "python",
   "name": "python3"
  },
  "language_info": {
   "codemirror_mode": {
    "name": "ipython",
    "version": 3
   },
   "file_extension": ".py",
   "mimetype": "text/x-python",
   "name": "python",
   "nbconvert_exporter": "python",
   "pygments_lexer": "ipython3",
   "version": "3.10.2"
  }
 },
 "nbformat": 4,
 "nbformat_minor": 5
}
