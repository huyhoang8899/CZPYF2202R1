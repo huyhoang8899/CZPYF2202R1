{
 "cells": [
  {
   "cell_type": "code",
   "execution_count": 1,
   "id": "3741faaa",
   "metadata": {},
   "outputs": [
    {
     "name": "stdout",
     "output_type": "stream",
     "text": [
      "Nhập vào chiều cao của bạn (cm) : 160\n",
      "Nhập vào số cân nặng của bạn (kg) : 60\n",
      "Bình thường\n"
     ]
    }
   ],
   "source": [
    "cc = int(input(\"Nhập vào chiều cao của bạn (cm) : \"))\n",
    "kg = int(input(\"Nhập vào số cân nặng của bạn (kg) : \"))\n",
    "\n",
    "bmi = kg / ((cc * 0.01 ) ** 2)\n",
    "\n",
    "if bmi < 16:\n",
    "    print(\"Gầy cấp đội III\")\n",
    "elif 16 <= bmi < 17:\n",
    "    print(\"Gầy cấp độ II\")\n",
    "elif 17 <= bmi < 18.5:\n",
    "    print(\"Gầy cấp độ I\")\n",
    "elif 18.5 <= bmi < 25:\n",
    "    print(\"Bình thường\")\n",
    "elif 25 <= bmi < 30:\n",
    "    print(\"Thừa cân\")\n",
    "elif 30 <= bmi < 35:\n",
    "    print(\"Béo phì cấp độ I\")\n",
    "elif 35 <= bmi < 40:\n",
    "    print(\"Béo phì cấp độ II\")\n",
    "else:\n",
    "    print(\"Béo phì cấp độ III\")"
   ]
  }
 ],
 "metadata": {
  "kernelspec": {
   "display_name": "Python 3 (ipykernel)",
   "language": "python",
   "name": "python3"
  },
  "language_info": {
   "codemirror_mode": {
    "name": "ipython",
    "version": 3
   },
   "file_extension": ".py",
   "mimetype": "text/x-python",
   "name": "python",
   "nbconvert_exporter": "python",
   "pygments_lexer": "ipython3",
   "version": "3.10.2"
  }
 },
 "nbformat": 4,
 "nbformat_minor": 5
}
