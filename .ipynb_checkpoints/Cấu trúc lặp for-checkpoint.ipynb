{
 "cells": [
  {
   "cell_type": "markdown",
   "id": "33f9d7a5",
   "metadata": {},
   "source": [
    "# Cấu trúc lặp for trong python"
   ]
  },
  {
   "attachments": {
    "image.png": {
     "image/png": "[encoded data removed]"
    }
   },
   "cell_type": "markdown",
   "id": "f64c9eae",
   "metadata": {},
   "source": [
    "## Review: Vẽ kim tự tháp\n",
    "![image.png](attachment:image.png)"
   ]
  },
  {
   "cell_type": "code",
   "execution_count": 1,
   "id": "ffcb1603",
   "metadata": {},
   "outputs": [],
   "source": [
    "import turtle\n",
    "p = turtle.Turtle()\n",
    "i = 10\n",
    "while i <= 50:\n",
    "    p.circle(i,steps = 3)\n",
    "    i += 10\n",
    "turtle.done()\n"
   ]
  },
  {
   "cell_type": "markdown",
   "id": "35ef7a35",
   "metadata": {},
   "source": [
    "## for kết hợp với hàm range()"
   ]
  },
  {
   "cell_type": "markdown",
   "id": "80e01298",
   "metadata": {},
   "source": [
    "### Trường hợp 1 tham số"
   ]
  },
  {
   "cell_type": "code",
   "execution_count": 5,
   "id": "b56eadb4",
   "metadata": {},
   "outputs": [
    {
     "name": "stdout",
     "output_type": "stream",
     "text": [
      "0\n",
      "1\n",
      "2\n",
      "3\n",
      "4\n",
      "5\n",
      "6\n",
      "7\n",
      "8\n",
      "9\n",
      "10\n"
     ]
    }
   ],
   "source": [
    "i = 0\n",
    "\n",
    "while i <= 10 :\n",
    "    print(i)\n",
    "    i += 1"
   ]
  },
  {
   "cell_type": "code",
   "execution_count": 4,
   "id": "c6933ce1",
   "metadata": {},
   "outputs": [
    {
     "name": "stdout",
     "output_type": "stream",
     "text": [
      "0\n",
      "1\n",
      "2\n",
      "3\n",
      "4\n",
      "5\n",
      "6\n",
      "7\n",
      "8\n",
      "9\n",
      "10\n"
     ]
    }
   ],
   "source": [
    "# nếu có 1 tham số mặc định i sẽ chạy từ 0 đến ....\n",
    "for i in range(11):\n",
    "    print(i)"
   ]
  },
  {
   "cell_type": "markdown",
   "id": "b4eb03ed",
   "metadata": {},
   "source": [
    "### Ví dụ: In các số lẻ từ 0 đến 100"
   ]
  },
  {
   "cell_type": "code",
   "execution_count": 8,
   "id": "f73caa14",
   "metadata": {},
   "outputs": [
    {
     "name": "stdout",
     "output_type": "stream",
     "text": [
      "1\n",
      "3\n",
      "5\n",
      "7\n",
      "9\n"
     ]
    }
   ],
   "source": [
    "i = 0 \n",
    "for i in range(100) :\n",
    "    if i % 2 != 0 :\n",
    "        print(i)\n"
   ]
  },
  {
   "cell_type": "markdown",
   "id": "5b4c7f1c",
   "metadata": {},
   "source": [
    "### Trường hợp 2 tham số"
   ]
  },
  {
   "cell_type": "code",
   "execution_count": 11,
   "id": "ab369d26",
   "metadata": {},
   "outputs": [
    {
     "name": "stdout",
     "output_type": "stream",
     "text": [
      "10\n",
      "11\n",
      "12\n",
      "13\n",
      "14\n",
      "15\n",
      "16\n",
      "17\n",
      "18\n",
      "19\n"
     ]
    }
   ],
   "source": [
    "# có 2 tham số thì i sẽ chạy từ 10 đến 20\n",
    "# in ra các số tự nhiên từ 10 -- 20\n",
    "\n",
    "for i in range (10,20):\n",
    "    print(i)"
   ]
  },
  {
   "cell_type": "markdown",
   "id": "06853353",
   "metadata": {},
   "source": [
    "### Ví dụ: In các số chia hết cho 7 từ a đến b"
   ]
  },
  {
   "cell_type": "code",
   "execution_count": 13,
   "id": "7b21bcdf",
   "metadata": {},
   "outputs": [
    {
     "name": "stdout",
     "output_type": "stream",
     "text": [
      "1505\n",
      "1512\n",
      "1519\n",
      "1526\n",
      "1533\n",
      "1540\n",
      "1547\n",
      "1554\n",
      "1561\n",
      "1568\n",
      "1575\n",
      "1582\n",
      "1589\n",
      "1596\n"
     ]
    }
   ],
   "source": [
    "a = 1500\n",
    "b = 1600\n",
    "for i in range (a, b+1):\n",
    "    if not i % 7:\n",
    "        print(i)"
   ]
  },
  {
   "cell_type": "markdown",
   "id": "5f784920",
   "metadata": {},
   "source": [
    "### Trường hợp 3 tham số"
   ]
  },
  {
   "cell_type": "code",
   "execution_count": 14,
   "id": "f6b32018",
   "metadata": {},
   "outputs": [
    {
     "name": "stdout",
     "output_type": "stream",
     "text": [
      "5\n",
      "8\n",
      "11\n",
      "14\n",
      "17\n"
     ]
    }
   ],
   "source": [
    "# 5 là i chạy từ 5 đến 30 và cộng dần đến 3\n",
    "for i in range (5, 20, 3):   \n",
    "    print(i)"
   ]
  },
  {
   "cell_type": "markdown",
   "id": "a4c0fc85",
   "metadata": {},
   "source": [
    "### Ví dụ: Biểu diễn cấp số cộng"
   ]
  },
  {
   "cell_type": "code",
   "execution_count": 15,
   "id": "9e9a5cbf",
   "metadata": {},
   "outputs": [
    {
     "name": "stdout",
     "output_type": "stream",
     "text": [
      "0\n",
      "4\n",
      "8\n",
      "12\n",
      "16\n",
      "20\n",
      "24\n",
      "28\n",
      "32\n",
      "36\n",
      "40\n",
      "44\n",
      "48\n",
      "52\n",
      "56\n",
      "60\n",
      "64\n",
      "68\n",
      "72\n",
      "76\n",
      "80\n",
      "84\n",
      "88\n",
      "92\n",
      "96\n"
     ]
    }
   ],
   "source": [
    "# in các số từ 0 đến 100\n",
    "for i in range (0, 100, 4):\n",
    "    print(i)"
   ]
  },
  {
   "cell_type": "markdown",
   "id": "a2a61887",
   "metadata": {},
   "source": [
    "## lặp qua một chuỗi"
   ]
  },
  {
   "cell_type": "code",
   "execution_count": 3,
   "id": "e495f392",
   "metadata": {},
   "outputs": [
    {
     "name": "stdout",
     "output_type": "stream",
     "text": [
      "17\n",
      "P\n",
      "y\n",
      "t\n",
      "h\n",
      "o\n",
      "n\n",
      "F\n",
      "u\n",
      "n\n",
      "d\n",
      "a\n",
      "m\n",
      "e\n",
      "n\n",
      "t\n",
      "a\n",
      "l\n",
      "P-y-t-h-o-n-F-u-n-d-a-m-e-n-t-a-l-"
     ]
    }
   ],
   "source": [
    "course_name = \"PythonFundamental\"\n",
    "# cách 1: kiểm tra vị trí (index) của từng ký tự trong chuỗi\n",
    "print (len(course_name))\n",
    "for i in range(len(course_name)):\n",
    "    print(course_name[i])\n",
    "    \n",
    "# cách 2: duyệt từng ký tự trong chuỗi\n",
    "for c in course_name:\n",
    "    print(c, end=\"-\")"
   ]
  },
  {
   "cell_type": "markdown",
   "id": "a4013631",
   "metadata": {},
   "source": [
    "### Ví dụ: Đếm số lượng nguyên âm trong chuỗi"
   ]
  },
  {
   "cell_type": "code",
   "execution_count": 4,
   "id": "319bfb92",
   "metadata": {},
   "outputs": [
    {
     "name": "stdout",
     "output_type": "stream",
     "text": [
      "chuỗi này có 10 nguyên âm\n"
     ]
    }
   ],
   "source": [
    "content = \"Đây là buổi định hướng quan trọng về tinh thần, triết lý và phương pháp của CodeGym Online\"\n",
    "total_vo = 0\n",
    "\n",
    "for c in content:\n",
    "    if c == \"u\" or c == \"e\" or c == \"a\" or c == \"i\":\n",
    "        total_vo += 1\n",
    "print (f\"chuỗi này có {total_vo} nguyên âm\")"
   ]
  },
  {
   "cell_type": "markdown",
   "id": "49bf78d3",
   "metadata": {},
   "source": [
    "## Lặp qua một danh sách chuỗi"
   ]
  },
  {
   "cell_type": "code",
   "execution_count": 5,
   "id": "0a5874cf",
   "metadata": {},
   "outputs": [
    {
     "name": "stdout",
     "output_type": "stream",
     "text": [
      "chuỗi này có 11 nguyên âm\n"
     ]
    }
   ],
   "source": [
    "content = \"Lorem Ipsum has been the industry's standard\"\n",
    "total_vowel = 0\n",
    "\n",
    "for c in content:\n",
    "    if c in 'aoeui':\n",
    "        total_vowel += 1\n",
    "        \n",
    "print(f\"chuỗi này có {total_vowel} nguyên âm\")\n"
   ]
  },
  {
   "cell_type": "markdown",
   "id": "be1b5ba5",
   "metadata": {},
   "source": [
    "### Ví dụ: Tìm chuỗi dài nhất"
   ]
  },
  {
   "cell_type": "code",
   "execution_count": 8,
   "id": "d6e7ef2c",
   "metadata": {},
   "outputs": [
    {
     "name": "stdout",
     "output_type": "stream",
     "text": [
      "canh\n"
     ]
    }
   ],
   "source": [
    "list_food = ['ga','canh','com','rau']\n",
    "max_l = len(list_food[0])\n",
    "max_s = list_food[0]\n",
    "for i in range(len(list_food)):\n",
    "    if len(list_food[i]) > max_l:\n",
    "        max_l = len(list_food[i])\n",
    "        max_s = list_food[i]\n",
    "print(max_s)"
   ]
  },
  {
   "cell_type": "markdown",
   "id": "69fa4d9f",
   "metadata": {},
   "source": [
    "## Vòng lặp lồng nhau"
   ]
  },
  {
   "cell_type": "code",
   "execution_count": 12,
   "id": "864bc218",
   "metadata": {},
   "outputs": [
    {
     "name": "stdout",
     "output_type": "stream",
     "text": [
      "Nhập chiều cao: 9\n",
      "+- * +- * +- * \n",
      "+- * +- * +- \n",
      "+- * +- * +\n",
      "+- * +- * \n",
      "+- * +- \n",
      "+- * +\n",
      "+- * \n",
      "+- \n",
      "+\n"
     ]
    }
   ],
   "source": [
    "hight = int(input(\"Nhập chiều cao: \"))\n",
    "for i in range(9, 0, -1):\n",
    "    for j in range(i):\n",
    "        if j % 3 == 1:\n",
    "            print(\"-\", end=\" \")\n",
    "        elif j % 3 == 2:\n",
    "            print (\"*\", end=\" \")\n",
    "        else: print(\"+\", end=\"\")\n",
    "    print()"
   ]
  }
 ],
 "metadata": {
  "kernelspec": {
   "display_name": "Python 3 (ipykernel)",
   "language": "python",
   "name": "python3"
  },
  "language_info": {
   "codemirror_mode": {
    "name": "ipython",
    "version": 3
   },
   "file_extension": ".py",
   "mimetype": "text/x-python",
   "name": "python",
   "nbconvert_exporter": "python",
   "pygments_lexer": "ipython3",
   "version": "3.10.2"
  }
 },
 "nbformat": 4,
 "nbformat_minor": 5
}
