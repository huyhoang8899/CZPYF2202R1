{
 "cells": [
  {
   "cell_type": "code",
   "execution_count": 9,
   "id": "0309945d",
   "metadata": {},
   "outputs": [
    {
     "name": "stdout",
     "output_type": "stream",
     "text": [
      "mời nhập số thứ nhất: 15\n",
      "Mời nhập số thứ hai: 20\n",
      "Fizz:  15\n",
      "Buzz 15\n",
      "FizzBuzz 15\n",
      "Buzz 18\n",
      "Fizz:  20\n"
     ]
    }
   ],
   "source": [
    "# Chương trình sẽ in ra các số trong khoảng này. Nhưng nếu số đó chia hết cho 3, bạn sẽ in ra “Fizz” thay vì nó, \n",
    "# nếu số đó chia hết cho 5, in ra “Buzz” và nếu số đó chia hết cho cả 3 và 5, hãy in ra “FizzBuzz”.\n",
    "\n",
    "a = int(input(\"mời nhập số thứ nhất: \"))\n",
    "b = int(input(\"Mời nhập số thứ hai: \"))\n",
    "for i in range (a, b+1):\n",
    "    if i % 5 == 0:\n",
    "        print(\"Fizz: \", i)\n",
    "    if i % 3 == 0:\n",
    "        print(\"Buzz\", i)\n",
    "    if i % 5 == 0 and i % 3 == 0:\n",
    "        print (\"FizzBuzz\", i)"
   ]
  }
 ],
 "metadata": {
  "kernelspec": {
   "display_name": "Python 3 (ipykernel)",
   "language": "python",
   "name": "python3"
  },
  "language_info": {
   "codemirror_mode": {
    "name": "ipython",
    "version": 3
   },
   "file_extension": ".py",
   "mimetype": "text/x-python",
   "name": "python",
   "nbconvert_exporter": "python",
   "pygments_lexer": "ipython3",
   "version": "3.10.2"
  }
 },
 "nbformat": 4,
 "nbformat_minor": 5
}
