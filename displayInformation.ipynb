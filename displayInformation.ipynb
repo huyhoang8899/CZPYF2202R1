{
 "cells": [
  {
   "cell_type": "code",
   "execution_count": 1,
   "id": "d2f521ac",
   "metadata": {},
   "outputs": [
    {
     "name": "stdout",
     "output_type": "stream",
     "text": [
      "Họ và tên: Nguyễn Huy Hoàng\n",
      "Ngày sinh: 07/09/1988\n",
      "Nơi sinh: Hà Nội\n"
     ]
    }
   ],
   "source": [
    "print(\"Họ và tên: Nguyễn Huy Hoàng\")\n",
    "print(\"Ngày sinh: 07/09/1988\")\n",
    "print(\"Nơi sinh: Hà Nội\")"
   ]
  }
 ],
 "metadata": {
  "kernelspec": {
   "display_name": "Python 3 (ipykernel)",
   "language": "python",
   "name": "python3"
  },
  "language_info": {
   "codemirror_mode": {
    "name": "ipython",
    "version": 3
   },
   "file_extension": ".py",
   "mimetype": "text/x-python",
   "name": "python",
   "nbconvert_exporter": "python",
   "pygments_lexer": "ipython3",
   "version": "3.10.2"
  }
 },
 "nbformat": 4,
 "nbformat_minor": 5
}
