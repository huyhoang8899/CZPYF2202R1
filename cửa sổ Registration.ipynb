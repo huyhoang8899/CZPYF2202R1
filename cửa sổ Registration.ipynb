{
 "cells": [
  {
   "cell_type": "code",
   "execution_count": 11,
   "id": "c2d08fc8",
   "metadata": {},
   "outputs": [],
   "source": [
    "from tkinter import *\n",
    "windows = Tk()\n",
    "windows.title('Registration')\n",
    "\n",
    "Registration_text = Label(windows, text='Registration')\n",
    "fullname_text = Label(windows, text='Fullname')\n",
    "address_text = Label(windows, text='Address')\n",
    "email_text = Label(windows, text='Email')\n",
    "\n",
    "fullname_input = Entry(windows)\n",
    "address_input = Entry(windows)\n",
    "email_input = Entry(windows)\n",
    "\n",
    "Register_btn = Button(windows, text='Register')\n",
    "\n",
    "Registration_text.pack()\n",
    "fullname_text.pack()\n",
    "fullname_input.pack()\n",
    "address_text.pack()\n",
    "address_input.pack()\n",
    "email_text.pack()\n",
    "email_input.pack()\n",
    "\n",
    "Register_btn.pack()\n",
    "\n",
    "\n",
    "windows.mainloop()\n",
    "\n"
   ]
  }
 ],
 "metadata": {
  "kernelspec": {
   "display_name": "Python 3 (ipykernel)",
   "language": "python",
   "name": "python3"
  },
  "language_info": {
   "codemirror_mode": {
    "name": "ipython",
    "version": 3
   },
   "file_extension": ".py",
   "mimetype": "text/x-python",
   "name": "python",
   "nbconvert_exporter": "python",
   "pygments_lexer": "ipython3",
   "version": "3.10.2"
  }
 },
 "nbformat": 4,
 "nbformat_minor": 5
}
