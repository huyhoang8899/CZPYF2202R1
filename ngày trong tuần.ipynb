{
 "cells": [
  {
   "cell_type": "code",
   "execution_count": null,
   "id": "03ff6622",
   "metadata": {},
   "outputs": [],
   "source": [
    "ngay = int(input(\"nhập số ngay: \"))\n",
    "\n",
    "if ngay == 1: \n",
    "    print(\"Sunday\")\n",
    "elif ngay == 2:\n",
    "    print(\"Monday\")\n",
    "elif ngay == 3:\n",
    "    print(\"Tuesday\")\n",
    "elif ngay == 4:\n",
    "    print(\"Wednesday\")\n",
    "elif ngay == 5:\n",
    "    print(\"Thursday\")\n",
    "elif ngay == 6:\n",
    "    print(\"Friday\")\n",
    "elif ngay == 7:\n",
    "    print(\"Saturday\")"
   ]
  }
 ],
 "metadata": {
  "kernelspec": {
   "display_name": "Python 3 (ipykernel)",
   "language": "python",
   "name": "python3"
  },
  "language_info": {
   "codemirror_mode": {
    "name": "ipython",
    "version": 3
   },
   "file_extension": ".py",
   "mimetype": "text/x-python",
   "name": "python",
   "nbconvert_exporter": "python",
   "pygments_lexer": "ipython3",
   "version": "3.10.2"
  }
 },
 "nbformat": 4,
 "nbformat_minor": 5
}
