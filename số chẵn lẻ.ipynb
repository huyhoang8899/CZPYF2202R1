{
 "cells": [
  {
   "cell_type": "code",
   "execution_count": 1,
   "id": "71b86336",
   "metadata": {},
   "outputs": [
    {
     "name": "stdout",
     "output_type": "stream",
     "text": [
      "Mời nhập vào một số: 2\n",
      "Đây là số chẵn\n"
     ]
    }
   ],
   "source": [
    "a = int(input(\"Mời nhập vào một số: \"))\n",
    "\n",
    "if (a%2==0):\n",
    "    print(\"Đây là số chẵn\")\n",
    "else:\n",
    "    print(\"Đây là số lẻ\")"
   ]
  }
 ],
 "metadata": {
  "kernelspec": {
   "display_name": "Python 3 (ipykernel)",
   "language": "python",
   "name": "python3"
  },
  "language_info": {
   "codemirror_mode": {
    "name": "ipython",
    "version": 3
   },
   "file_extension": ".py",
   "mimetype": "text/x-python",
   "name": "python",
   "nbconvert_exporter": "python",
   "pygments_lexer": "ipython3",
   "version": "3.10.2"
  }
 },
 "nbformat": 4,
 "nbformat_minor": 5
}
