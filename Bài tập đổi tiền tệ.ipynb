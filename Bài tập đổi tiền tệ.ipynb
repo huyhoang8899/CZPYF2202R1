{
 "cells": [
  {
   "cell_type": "code",
   "execution_count": 3,
   "id": "edf1bad5",
   "metadata": {},
   "outputs": [
    {
     "name": "stdout",
     "output_type": "stream",
     "text": [
      "Mời nhập vào số tiền USD: 200\n",
      "Mời nhập tỷ giá ngoại tệ USD/VND: 23000\n",
      "Giá ngoại tệ sau quy đổi:  4600000\n"
     ]
    }
   ],
   "source": [
    "a = int(input(\"Mời nhập vào số tiền USD: \"))\n",
    "b = int(input(\"Mời nhập tỷ giá ngoại tệ USD/VND: \"))\n",
    "c = a * b\n",
    "print(\"Giá ngoại tệ sau quy đổi: \",c)"
   ]
  }
 ],
 "metadata": {
  "kernelspec": {
   "display_name": "Python 3 (ipykernel)",
   "language": "python",
   "name": "python3"
  },
  "language_info": {
   "codemirror_mode": {
    "name": "ipython",
    "version": 3
   },
   "file_extension": ".py",
   "mimetype": "text/x-python",
   "name": "python",
   "nbconvert_exporter": "python",
   "pygments_lexer": "ipython3",
   "version": "3.10.2"
  }
 },
 "nbformat": 4,
 "nbformat_minor": 5
}
