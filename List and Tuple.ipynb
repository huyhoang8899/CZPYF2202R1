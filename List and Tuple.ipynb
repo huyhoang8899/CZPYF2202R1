{
 "cells": [
  {
   "cell_type": "markdown",
   "metadata": {},
   "source": [
    "## Review: type()"
   ]
  },
  {
   "cell_type": "code",
   "execution_count": null,
   "metadata": {},
   "outputs": [],
   "source": [
    "# Python có 4 kiểu dữ liệu cơ bản\n",
    "String\n",
    "Integer\n",
    "Float\n",
    "Boolean\n"
   ]
  },
  {
   "cell_type": "markdown",
   "metadata": {},
   "source": [
    "## list là gì?"
   ]
  },
  {
   "cell_type": "code",
   "execution_count": null,
   "metadata": {},
   "outputs": [],
   "source": [
    "# Ví dụ\n",
    "diem_van = 7\n",
    "diem_toan = 8\n",
    "diem_anh_van = 6.5"
   ]
  },
  {
   "cell_type": "code",
   "execution_count": null,
   "metadata": {},
   "outputs": [],
   "source": [
    "# Sử dụng list\n",
    "[1,2,3]\n",
    "[\"Python\", \"hello\"]\n",
    "[True, False]\n",
    "[1.0, 3.14]\n",
    "[1, \"Python\", True, -10, [1, 2, 3]]"
   ]
  },
  {
   "cell_type": "code",
   "execution_count": 1,
   "metadata": {},
   "outputs": [
    {
     "name": "stdout",
     "output_type": "stream",
     "text": [
      "monday\n",
      "tuesday\n",
      "--------------------\n",
      "monday\n",
      "tuesday\n"
     ]
    }
   ],
   "source": [
    "weekdays = ['monday', 'tuesday']\n",
    "\n",
    "for day in weekdays:\n",
    "    print(day)\n",
    "print('-' * 20)\n",
    "for i in range (len(weekdays)):\n",
    "    print(weekdays[i])"
   ]
  },
  {
   "cell_type": "markdown",
   "metadata": {},
   "source": [
    "### Thực hành: Viết chương trình tạo ra một list các string khác nhau và đếm tổng số lượng string dài hơn 3 kí tự"
   ]
  },
  {
   "cell_type": "code",
   "execution_count": 2,
   "metadata": {},
   "outputs": [
    {
     "name": "stdout",
     "output_type": "stream",
     "text": [
      "có 4 string dài hơn 3 ký tự\n"
     ]
    }
   ],
   "source": [
    "ramdom = ['abc', 'abfd', 'fdsf', 'keioe', 'kdvndue']\n",
    "count = 0\n",
    "\n",
    "for string in ramdom:\n",
    "    if len(string) > 3:\n",
    "        count += 1\n",
    "print (f\"có {count} string dài hơn 3 ký tự\")"
   ]
  },
  {
   "cell_type": "markdown",
   "metadata": {},
   "source": [
    "### Thực hành 2: Viết chương trình nhận vào 2 list và trả về True nếu 2 list có ít nhất 1 phần tử chung, ngược lại trả về False"
   ]
  },
  {
   "cell_type": "code",
   "execution_count": null,
   "metadata": {},
   "outputs": [],
   "source": []
  },
  {
   "cell_type": "markdown",
   "metadata": {},
   "source": [
    "## Các thao tác cơ bản với list"
   ]
  },
  {
   "cell_type": "markdown",
   "metadata": {},
   "source": [
    "### Kiểm tra độ dài list"
   ]
  },
  {
   "cell_type": "code",
   "execution_count": 3,
   "metadata": {},
   "outputs": [
    {
     "name": "stdout",
     "output_type": "stream",
     "text": [
      "6\n"
     ]
    }
   ],
   "source": [
    "number = [0, 1, 2, 3, 4, 5]\n",
    "print(len(number))"
   ]
  },
  {
   "cell_type": "markdown",
   "metadata": {},
   "source": [
    "### Truy cập phần tử trên list"
   ]
  },
  {
   "cell_type": "code",
   "execution_count": 7,
   "metadata": {},
   "outputs": [
    {
     "name": "stdout",
     "output_type": "stream",
     "text": [
      "2\n",
      "2\n",
      "100\n"
     ]
    }
   ],
   "source": [
    "number = [0, 1, 2, 3, 4, 5]\n",
    "print (number[2])\n",
    "print (number[-4])\n",
    "\n",
    "number[2] = 100\n",
    "print (number[2])"
   ]
  },
  {
   "cell_type": "markdown",
   "metadata": {},
   "source": [
    "### Thực hành: Tạo một list 10 số tự nhiên và in ra các phần tử trong list"
   ]
  },
  {
   "cell_type": "code",
   "execution_count": 8,
   "metadata": {},
   "outputs": [
    {
     "name": "stdout",
     "output_type": "stream",
     "text": [
      "0 1 2 3 4 5 6 7 8 9 10 "
     ]
    }
   ],
   "source": [
    "number = [0, 1, 2, 3, 4, 5, 6, 7, 8, 9, 10]\n",
    "\n",
    "for n in number:\n",
    "    print(n, end = ' ')\n"
   ]
  },
  {
   "cell_type": "markdown",
   "metadata": {},
   "source": [
    "### Thực hành 2: Tạo ra một list con chưa 2 phần tử cuối cùng từ list đã tạo ở trên"
   ]
  },
  {
   "cell_type": "code",
   "execution_count": null,
   "metadata": {},
   "outputs": [],
   "source": []
  },
  {
   "cell_type": "markdown",
   "metadata": {},
   "source": [
    "### Cộng list"
   ]
  },
  {
   "cell_type": "code",
   "execution_count": null,
   "metadata": {},
   "outputs": [],
   "source": []
  },
  {
   "cell_type": "markdown",
   "metadata": {},
   "source": [
    "### Thực hành: Thêm học sinh vào lớp"
   ]
  },
  {
   "cell_type": "code",
   "execution_count": 2,
   "metadata": {},
   "outputs": [
    {
     "name": "stdout",
     "output_type": "stream",
     "text": [
      "['Trung', 'Tâm', 'Dũng', 'Hoa', 'Thiện', 'Cảnh']\n"
     ]
    }
   ],
   "source": [
    "danh_sach_lop = ['Trung', 'Tâm', 'Dũng', 'Hoa']\n",
    "hoc_sinh_moi = ['Thiện', 'Cảnh']\n",
    "danh_sach_lop += hoc_sinh_moi\n",
    "print(danh_sach_lop)\n"
   ]
  },
  {
   "cell_type": "markdown",
   "metadata": {},
   "source": [
    "### Kiểm tra phần tử tồn tại trong list"
   ]
  },
  {
   "cell_type": "code",
   "execution_count": 3,
   "metadata": {},
   "outputs": [
    {
     "name": "stdout",
     "output_type": "stream",
     "text": [
      "False\n"
     ]
    }
   ],
   "source": [
    "danh_sach_lop = ['Trung', 'Tâm', 'Dũng', 'Hoa']\n",
    "print('toàn' in danh_sach_lop )"
   ]
  },
  {
   "cell_type": "markdown",
   "metadata": {},
   "source": [
    "### Xóa phần tử khỏi list"
   ]
  },
  {
   "cell_type": "code",
   "execution_count": 5,
   "metadata": {},
   "outputs": [
    {
     "name": "stdout",
     "output_type": "stream",
     "text": [
      "[2, 3, 4]\n",
      "[2, 3, 4]\n"
     ]
    }
   ],
   "source": [
    "a = [1, 2, 3, 4]\n",
    "# cách 1: hàm remove() xóa vị trí ko phải là xóa đúng ký tự nào đó\n",
    "a.remove(1)\n",
    "print(a)\n",
    "\n",
    "a = [1, 2, 3, 4]\n",
    "# cách 2: del\n",
    "del a[0]\n",
    "print(a)\n"
   ]
  },
  {
   "cell_type": "markdown",
   "metadata": {},
   "source": [
    "### Sắp xếp list"
   ]
  },
  {
   "cell_type": "code",
   "execution_count": 8,
   "metadata": {},
   "outputs": [
    {
     "name": "stdout",
     "output_type": "stream",
     "text": [
      "List before sort: [23, 32, 563, 234]\n",
      "List after sort xuôi: [23, 32, 234, 563]\n",
      "List before sort: [23, 32, 234, 563]\n",
      "List after sort ngược: [563, 234, 32, 23]\n"
     ]
    }
   ],
   "source": [
    "a = [23,32, 563, 234]\n",
    "# cách 1: sort() sắp xếp xuôi\n",
    "print(f'List before sort: {a}')\n",
    "a.sort()\n",
    "print(f'List after sort xuôi: {a}')\n",
    "# sắp xếp ngược\n",
    "print(f'List before sort: {a}')\n",
    "a.sort(reverse = True)\n",
    "print(f'List after sort ngược: {a}')"
   ]
  },
  {
   "cell_type": "code",
   "execution_count": 9,
   "metadata": {},
   "outputs": [
    {
     "name": "stdout",
     "output_type": "stream",
     "text": [
      "[23, 32, 234, 563]\n"
     ]
    }
   ],
   "source": [
    "# cách 2: sorted()\n",
    "a = [23,32, 563, 234]\n",
    "b = sorted(a)\n",
    "print(b)"
   ]
  },
  {
   "cell_type": "markdown",
   "metadata": {},
   "source": [
    "### Làm rỗng list"
   ]
  },
  {
   "cell_type": "code",
   "execution_count": 10,
   "metadata": {},
   "outputs": [
    {
     "name": "stdout",
     "output_type": "stream",
     "text": [
      "[23, 32, 563, 234]\n",
      "[]\n"
     ]
    }
   ],
   "source": [
    "a = [23,32, 563, 234]\n",
    "print(a)\n",
    "\n",
    "a.clear()\n",
    "print(a)"
   ]
  },
  {
   "cell_type": "markdown",
   "metadata": {},
   "source": [
    "### Copy list"
   ]
  },
  {
   "cell_type": "code",
   "execution_count": null,
   "metadata": {},
   "outputs": [],
   "source": []
  },
  {
   "cell_type": "markdown",
   "metadata": {},
   "source": [
    "## tuple"
   ]
  },
  {
   "cell_type": "code",
   "execution_count": null,
   "metadata": {},
   "outputs": [],
   "source": []
  }
 ],
 "metadata": {
  "kernelspec": {
   "display_name": "Python 3 (ipykernel)",
   "language": "python",
   "name": "python3"
  },
  "language_info": {
   "codemirror_mode": {
    "name": "ipython",
    "version": 3
   },
   "file_extension": ".py",
   "mimetype": "text/x-python",
   "name": "python",
   "nbconvert_exporter": "python",
   "pygments_lexer": "ipython3",
   "version": "3.10.2"
  }
 },
 "nbformat": 4,
 "nbformat_minor": 4
}
