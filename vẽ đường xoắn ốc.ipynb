{
 "cells": [
  {
   "cell_type": "code",
   "execution_count": 1,
   "id": "fca7e29f",
   "metadata": {},
   "outputs": [],
   "source": [
    "#Program to draw spiral circles in Python Turtle\n",
    "import turtle\n",
    "  \n",
    "t = turtle.Turtle()\n",
    "for i in range(100):\n",
    "  t.circle(10+i, 45)\n",
    "turtle.done()"
   ]
  }
 ],
 "metadata": {
  "kernelspec": {
   "display_name": "Python 3 (ipykernel)",
   "language": "python",
   "name": "python3"
  },
  "language_info": {
   "codemirror_mode": {
    "name": "ipython",
    "version": 3
   },
   "file_extension": ".py",
   "mimetype": "text/x-python",
   "name": "python",
   "nbconvert_exporter": "python",
   "pygments_lexer": "ipython3",
   "version": "3.10.2"
  }
 },
 "nbformat": 4,
 "nbformat_minor": 5
}
